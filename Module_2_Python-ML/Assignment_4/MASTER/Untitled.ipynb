{
 "cells": [
  {
   "cell_type": "markdown",
   "metadata": {},
   "source": [
    "# **Assignment 4** - Introduction to Machine Learning: Signal, Image, and Volume Processing\n",
    "#### **Author**: Shakthi Visagan\n",
    "#### **Purpose**: Introduction to image processing\n",
    "\n",
    "Machine learning and most algorithmic enterprises have one goal: extract the signal from the noise. In this assignment, we'll cover what the signal and the noise looks like in data, and introduce some tools to manipulate and learn about the data. These tools will ultimately build the fundamental operational units used in neural networks."
   ]
  },
  {
   "cell_type": "markdown",
   "metadata": {},
   "source": [
    "---"
   ]
  },
  {
   "cell_type": "markdown",
   "metadata": {},
   "source": [
    "(1)"
   ]
  }
 ],
 "metadata": {
  "kernelspec": {
   "display_name": "Python 3",
   "language": "python",
   "name": "python3"
  },
  "language_info": {
   "codemirror_mode": {
    "name": "ipython",
    "version": 3
   },
   "file_extension": ".py",
   "mimetype": "text/x-python",
   "name": "python",
   "nbconvert_exporter": "python",
   "pygments_lexer": "ipython3",
   "version": "3.7.1"
  }
 },
 "nbformat": 4,
 "nbformat_minor": 2
}
