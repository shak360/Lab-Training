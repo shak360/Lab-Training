{
 "cells": [
  {
   "cell_type": "markdown",
   "metadata": {},
   "source": [
    "# **Assignment 3** - Introduction to Machine Learning: Regression\n",
    "#### **Author**: Shakthi Visagan\n",
    "#### **Purpose**: Introduction to machine learning and how to think like a machine learning engineer\n",
    "\n",
    "Machine learning is the study of how to extract insights from data. Data on its own is largely useless, and arguably of negative value, as it takes time, effort, and money to collect, store, and maintain. However, manipulating data to yield deeper generalizations about the data itself has proven to be a greatly lucrative occupation. A simple Google search will reveal the salaries of those who spend their time creating machine learning models. Though machine learning is marketed as a modern advance, it has its roots and foundation in the mathematics and engineering developed by mythic legends like Euler, Gauss, Legendre, and their ilk. Regardless, machine learning owes its current capitalistic success and popularity mainly to the manifestation of Moore's law and the ability to collect and process unfathomable amounts of data. Some examples of the uses of machine learning are sabremetrics, the use of data-based insights to improve the performance of athletes and sports teams, econometrics, the use of financial and economical data to drive public policy, and neuro-engineering, using machine learning to process the neural signals of the brain to create a two-way interface between a prosthetic machine and the brain. This is by no means a comprehensive list, and you are encouraged to look into areas where machine learning is being used and find your own interests. Though machine learning can be used to learn more about the data, recent trends seem to be that data can also guide the development of machine learning algorithms.\n",
    "\n",
    "\n",
    "Be resourceful as you complete this assignment (the Internet is the sum of all human knowledge (supposedly))."
   ]
  },
  {
   "cell_type": "markdown",
   "metadata": {},
   "source": [
    "---"
   ]
  },
  {
   "cell_type": "markdown",
   "metadata": {},
   "source": [
    "#### (1) Define, compare, and give examples for the the following terms:\n",
    "1. Regression and Classification\n",
    "2. Discrete distribution (variable) and Continuous distribution (variable)\n",
    "3. Supervised learning and Unsupervised learning (sometimes called Semi-supervised learning)\n",
    "4. Linear function and Nonlinear function\n",
    "\n",
    "Write your answers below."
   ]
  },
  {
   "cell_type": "markdown",
   "metadata": {},
   "source": []
  },
  {
   "cell_type": "markdown",
   "metadata": {},
   "source": [
    "---"
   ]
  },
  {
   "cell_type": "code",
   "execution_count": null,
   "metadata": {},
   "outputs": [],
   "source": []
  },
  {
   "cell_type": "markdown",
   "metadata": {},
   "source": [
    "#### (2) Exploratory Data Analysis"
   ]
  },
  {
   "cell_type": "code",
   "execution_count": null,
   "metadata": {},
   "outputs": [],
   "source": []
  }
 ],
 "metadata": {
  "kernelspec": {
   "display_name": "Python 3",
   "language": "python",
   "name": "python3"
  },
  "language_info": {
   "codemirror_mode": {
    "name": "ipython",
    "version": 3
   },
   "file_extension": ".py",
   "mimetype": "text/x-python",
   "name": "python",
   "nbconvert_exporter": "python",
   "pygments_lexer": "ipython3",
   "version": "3.7.3"
  }
 },
 "nbformat": 4,
 "nbformat_minor": 2
}
