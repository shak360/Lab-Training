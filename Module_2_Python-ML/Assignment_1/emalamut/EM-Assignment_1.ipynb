{
 "cells": [
  {
   "cell_type": "markdown",
   "metadata": {},
   "source": [
    "# **Assignment 1** - Introduction\n",
    "#### **Author**: Shakthi Visagan\n",
    "#### **Purpose**: Introduction to git, and some Python\n",
    "\n",
    "Please run through this tutorial on [how git](https://try.github.io/) functions. \n",
    "Further reading on git [exists here](http://swcarpentry.github.io/git-novice/).\n",
    "For an introduction to Python programming, please follow the tutorials [here](http://swcarpentry.github.io/python-novice-inflammation/) and [here](https://swcarpentry.github.io/python-novice-gapminder/)."
   ]
  },
  {
   "cell_type": "markdown",
   "metadata": {},
   "source": [
    "This is a Jupyter environment. Though you can program (write code) through here, you will primarily write software in text files. Jupyter notebooks will be reserved for demonstrating code, visualizing results, and practicing/learning new tools."
   ]
  },
  {
   "cell_type": "code",
   "execution_count": 43,
   "metadata": {},
   "outputs": [],
   "source": [
    "#Evelyn Malamut\n",
    "import numpy as np\n",
    "import matplotlib.pyplot as plt\n",
    "import timeit\n",
    "%matplotlib inline\n",
    "from sklearn import datasets"
   ]
  },
  {
   "cell_type": "markdown",
   "metadata": {},
   "source": [
    "#### (1) Write a function that stores the first $n$ numbers of the Fibonacci sequence in a numpy array.\n",
    "Complete this problem by filling out the function below.\n",
    "Then write two assertions as tests of your function."
   ]
  },
  {
   "cell_type": "code",
   "execution_count": 3,
   "metadata": {},
   "outputs": [],
   "source": [
    "def fib_lister(n):\n",
    "    \"\"\"\n",
    "    Obtain the first n numbers in the Fibonacci sequence.\n",
    "    Recall that the first 3 numbers should be 0, 1 and 1.\n",
    "    That is, fib_lister(3) should return np.array([0 1 1]).\n",
    "    \"\"\"\n",
    "    # create a list with n number of 0s\n",
    "    fib_list = [0,1,1]\n",
    "    ### Enter code below ###\n",
    "    for i in range(n):\n",
    "        new_val = fib_list[-1] + fib_list[-2]\n",
    "        fib_list.append(new_val)\n",
    "    ###------------------###\n",
    "    return np.array(fib_list)"
   ]
  },
  {
   "cell_type": "code",
   "execution_count": 4,
   "metadata": {},
   "outputs": [],
   "source": [
    "assert fib_lister(101)[0]   == 0\n",
    "assert fib_lister(101)[1]   == 1\n",
    "assert fib_lister(101)[2]   == 1\n",
    "assert fib_lister(101)[20]  == 6765\n",
    "assert fib_lister(101)[40]  == 102334155\n",
    "assert fib_lister(101)[60]  == 1548008755920\n",
    "assert fib_lister(101)[80]  != 6765\n",
    "assert fib_lister(101)[100] == 354224848179261915075"
   ]
  },
  {
   "cell_type": "code",
   "execution_count": 5,
   "metadata": {},
   "outputs": [],
   "source": [
    "### Write two more asserts here ###\n",
    "assert fib_lister(101)[16] == 987\n",
    "assert fib_lister(101)[25] == 75025\n",
    "###-----------------------------###"
   ]
  },
  {
   "cell_type": "markdown",
   "metadata": {},
   "source": [
    "#### (2) Plot the selected data from this Boston home price dataset.\n",
    "Ensure that the graph is appropriately labeled and titled.\n",
    "Use [plt.scatter](https://matplotlib.org/3.1.1/api/_as_gen/matplotlib.pyplot.scatter.html) to learn how to plot data with independent and dependent variables.\n",
    "Use the examples listed in the page to learn how to plot in Python."
   ]
  },
  {
   "cell_type": "code",
   "execution_count": 55,
   "metadata": {
    "scrolled": true
   },
   "outputs": [],
   "source": [
    "boston = datasets.load_boston()\n",
    "\n",
    "y = boston.target\n",
    "x = boston.data[:,0]\n",
    "ylabel = \"Home Prices ($1000)\"\n",
    "xlabel = \"Crime (per capita)\""
   ]
  },
  {
   "cell_type": "code",
   "execution_count": 56,
   "metadata": {},
   "outputs": [
    {
     "data": {
      "text/plain": [
       "Text(0.5, 1.0, 'Crime (per capita) based on Home Prices in the Boston Area')"
      ]
     },
     "execution_count": 56,
     "metadata": {},
     "output_type": "execute_result"
    },
    {
     "data": {
      "image/png": "[encoded data removed]",
      "text/plain": [
       "<Figure size 432x288 with 1 Axes>"
      ]
     },
     "metadata": {
      "needs_background": "light"
     },
     "output_type": "display_data"
    }
   ],
   "source": [
    "### Enter plotting code below ###\n",
    "plt.scatter(x, y)\n",
    "plt.xlabel(\"Home Prices ($1000)\")\n",
    "plt.ylabel(\"Crime (per capita)\")\n",
    "plt.title(\"Crime (per capita) based on Home Prices in the Boston Area\")\n",
    "###---------------------------###"
   ]
  },
  {
   "cell_type": "markdown",
   "metadata": {},
   "source": [
    "#### (3) Write a function that satisfies the assertions below."
   ]
  },
  {
   "cell_type": "code",
   "execution_count": 57,
   "metadata": {},
   "outputs": [],
   "source": [
    "def func(x,y):\n",
    "    \"\"\"\n",
    "    func(0,20) = 40\n",
    "    func(1,10) = 21\n",
    "    func(2,5) = 12\n",
    "    func(3,2) = 7\n",
    "    func(4,1) = 6\n",
    "    \"\"\"\n",
    "    ### Enter code below ###\n",
    "    \n",
    "    z = 2*y + x\n",
    "    \n",
    "    ###------------------###\n",
    "    return z"
   ]
  },
  {
   "cell_type": "code",
   "execution_count": 58,
   "metadata": {},
   "outputs": [],
   "source": [
    "assert(func(0, 20) == 40)\n",
    "assert(func(1, 10) == 21)\n",
    "assert(func(2, 5) == 12)\n",
    "assert(func(3, 2) == 7)\n",
    "assert(func(4, 1) == 6)"
   ]
  },
  {
   "cell_type": "markdown",
   "metadata": {},
   "source": [
    "#### (4) Estimating the value of $\\pi$ numerically using Monte Carlo sampling."
   ]
  },
  {
   "cell_type": "markdown",
   "metadata": {},
   "source": [
    "(4a) Imagine a circle enclosed in a square such that the circle only intersects with the square at four points on the edges of the square.\n",
    "1. If the circle has radius $1$, what is the length of an edge of the square?\n",
    "2. What is the area of the circle?\n",
    "3. What is the area of the square?\n",
    "4. What is the ratio of the area of the circle to the area of the square?\n",
    "5. How can we use the ratios between their areas to calculate $\\pi$?\n",
    "\n",
    "Write your answers below."
   ]
  },
  {
   "cell_type": "markdown",
   "metadata": {},
   "source": [
    "1. 2\n",
    "2. pi u^2\n",
    "3. 4 u^2\n",
    "4. pi/4\n",
    "5. can find the area of the square and subtract the area in the square that's not in the circle from that area to get pi"
   ]
  },
  {
   "cell_type": "markdown",
   "metadata": {},
   "source": [
    "(4b) In your previous drawing, where did you set the origin of your coordinates to be, the bottom-left corner of the square or the center of the circle?\n",
    "\n",
    "If the origin (the point $(0,0)$) is at the bottom-left corner of the square...\n",
    "1. What is the largest and smallest $x$-coordinate you can have (such that you're still inside the square)? \n",
    "2. What is the largest and smallest $y$-coordinate you can have (such that you're still inside the square)?\n",
    "3. What is the center of the circle in this setup?\n",
    "4. How do you check whether or not a point is in the circle? (hint: What distance should we calculate?)\n",
    "\n",
    "If the origin (the point $(0,0)$) is at the center of the circle...\n",
    "1. What is the largest and smallest $x$-coordinate you can have (such that you're still inside the square)? \n",
    "2. What is the largest and smallest $y$-coordinate you can have (such that you're still inside the square)?\n",
    "3. What is the top-right corner of the square in this setup?\n",
    "4. How do you check whether or not a point is in the circle? (hint: What distance should we calculate?)\n",
    "\n",
    "How is the answer to question 4 different in each scenario?\n",
    "\n",
    "Write your answers below."
   ]
  },
  {
   "cell_type": "markdown",
   "metadata": {},
   "source": [
    "1.  0 and 2\n",
    "2.  0 and 2\n",
    "3. (1,1)\n",
    "4. distance from (1,1) should not exceed 1 (ie if the distance between your coordinates and the (1,1) has a magnitude greater than one, then we are not in the circle\n",
    "\n",
    "For $y$:\n",
    "\n",
    "1. -1 and 1\n",
    "2. -1 and 1\n",
    "3. (1,1)\n",
    "4. if |x| or |y| is greater than 1\n",
    "\n",
    "new coordinate system. Same idea."
   ]
  },
  {
   "cell_type": "markdown",
   "metadata": {},
   "source": [
    "(4c) Using [numpy](https://numpy.org/) and your resourcefulness, figure out how to simulate a 1000 coordinate pairs that are inside the square in either of the two coordinate systems you've set up in the previous problem. Explicitly state what coordinate system you've chosen. Is there a benefit to one over the other? Write a function that can generate $n$ coordinate pairs within the square.\n",
    "\n",
    "Write your code and answers as comments below."
   ]
  },
  {
   "cell_type": "code",
   "execution_count": 10,
   "metadata": {},
   "outputs": [],
   "source": [
    "a = np.random.uniform(-1,1, (1000,2))\n",
    "#I'm using the (0,0) ) is at the bottom-left corner of the square,\n",
    "#because I couldn't think of an easy way to generate negative nums"
   ]
  },
  {
   "cell_type": "markdown",
   "metadata": {},
   "source": [
    "(4d) Given a coordinate pair, like the ones generated in (4c), and the coordinate system you've chosen, how do you check if the coordinate pair is inside the circle? How do you check if the coordinate pair is inside the square (Do we need to? Recall the way you generate coordinates)?\n",
    "\n",
    "Write your code and answers as comments below."
   ]
  },
  {
   "cell_type": "code",
   "execution_count": 11,
   "metadata": {},
   "outputs": [],
   "source": [
    "for i in range(1000):\n",
    "    \n",
    "    if (abs(a[i][0])**2 + abs(a[i][1])**2)**(1/2) < 1:\n",
    "        pass\n",
    "        #print(\"In the circle\")\n",
    "    else:\n",
    "        pass\n",
    "        #print(\"Not in the circle\")"
   ]
  },
  {
   "cell_type": "markdown",
   "metadata": {},
   "source": [
    "(4e) Use the ratio of the number of points inside the circle to the number of points inside the square as an estimate of the ratio between the circle's area and the square's area. Use all of the above answers to estimate the value of $\\pi$.\n",
    "\n",
    "Write your code and answers as comments below."
   ]
  },
  {
   "cell_type": "code",
   "execution_count": 12,
   "metadata": {},
   "outputs": [
    {
     "data": {
      "text/plain": [
       "3.136"
      ]
     },
     "execution_count": 12,
     "metadata": {},
     "output_type": "execute_result"
    }
   ],
   "source": [
    "points_in_circle = 0\n",
    "points_not_in_circle = 0\n",
    "for i in range(1000):\n",
    "    if (abs(a[i][0])**2 + abs(a[i][1])**2)**(1/2) < 1:\n",
    "        points_in_circle += 1\n",
    "        #print(\"In the circle\")\n",
    "    else:\n",
    "        points_not_in_circle += 1\n",
    "        #print(\"Not in the circle\")\n",
    "ratio = 4*(points_in_circle/1000)\n",
    "\n",
    "ratio"
   ]
  },
  {
   "cell_type": "markdown",
   "metadata": {},
   "source": [
    "(4f) Package the code above as neat functions if you haven't already. Ideally, you should have a function that takes in as input $n$ number of points to generate (sample the square) and outputs an estimate of $\\pi$. Think about a way to calculate the accuracy of your method (the difference between actual $\\pi$ and the number your method calculates). See how well your estimate does as the number of coordinates you use to sample the square increases. Visually represent this through a plot. Add appropriate labels and titles. Do this on a logarithmic scale (the number of points you simulate should increase in powers of 2). Make sure that the plot scaling on the $x$-axis is scaled logarithmically as well.\n",
    "\n",
    "Write your code and answers as comments below. Show your plot as well."
   ]
  },
  {
   "cell_type": "code",
   "execution_count": 53,
   "metadata": {},
   "outputs": [
    {
     "data": {
      "text/plain": [
       "Text(0.5, 1.0, 'How the Accuracy of the Estimate of Pi Changes with the Number of Random Points Generated')"
      ]
     },
     "execution_count": 53,
     "metadata": {},
     "output_type": "execute_result"
    },
    {
     "data": {
      "image/png": "[encoded data removed]",
      "text/plain": [
       "<Figure size 432x288 with 1 Axes>"
      ]
     },
     "metadata": {
      "needs_background": "light"
     },
     "output_type": "display_data"
    }
   ],
   "source": [
    "timeit.default_timer()\n",
    "def monte(n):\n",
    "    a = np.random.uniform(-1,1,(n,2))\n",
    "    points_in_circle = 0\n",
    "    points_not_in_circle = 0\n",
    "\n",
    "    for i in range(n):\n",
    "        if (abs(a[i][0])**2 + abs(a[i][1])**2)**(1/2) < 1:\n",
    "            points_in_circle += 1\n",
    "            #print(\"In the circle\")\n",
    "        else:\n",
    "            points_not_in_circle += 1\n",
    "            #print(\"Not in the circle\")\n",
    "    ratio = 4*(points_in_circle/n)\n",
    "    return ratio\n",
    "\n",
    "#x = np.arange(3,5,.1)\n",
    "x = range(1000,100000,1000)\n",
    "#x = range(100,1000,100)\n",
    "x_log = []\n",
    "y = []\n",
    "p = np.pi\n",
    "for j in x:\n",
    "    y.append(abs(p - monte(j)))\n",
    "    x_log.append(np.log10(j))\n",
    "    \n",
    "plt.scatter(x_log, y)\n",
    "#plt.scatter(x, y)\n",
    "plt.xlabel(\"Number of Points using Log Scale\")\n",
    "plt.ylabel(\"Accuracy of Estimate\")\n",
    "plt.title(\"How the Accuracy of the Estimate of Pi Changes with the Number of Random Points Generated\")"
   ]
  },
  {
   "cell_type": "markdown",
   "metadata": {},
   "source": [
    "(4g) Think about ways to make your code faster. Which coordinate scheme from (4b) utilizes fewer operations? Can we improve the problem setup in anyway? How would the coordinate scheme have to change (do we need to generate points over the entire square? what about a quarter of it?)? Try implementing your answers to these questions as new function(s). Look up how to time functions in Python ([timeit](https://docs.python.org/2/library/timeit.html)) and given the same input, compare your new method to the old method in terms of runtime. Plot the same type of plot as you did in (4f) but utilizing the new method. \n",
    "\n",
    "Write your code and answers as comments below. Show your plot as well."
   ]
  },
  {
   "cell_type": "code",
   "execution_count": 48,
   "metadata": {},
   "outputs": [
    {
     "data": {
      "text/plain": [
       "Text(0.5, 1.0, 'How the Accuracy of the Estimate of Pi Changes with the Number of Random Points Generated')"
      ]
     },
     "execution_count": 48,
     "metadata": {},
     "output_type": "execute_result"
    },
    {
     "data": {
      "image/png": "[encoded data removed]",
      "text/plain": [
       "<Figure size 432x288 with 1 Axes>"
      ]
     },
     "metadata": {
      "needs_background": "light"
     },
     "output_type": "display_data"
    }
   ],
   "source": [
    "#point (0,0) as center of circle uses the fewest operations\n",
    "#could have a quarter of the circle square\n",
    "timeit.default_timer()\n",
    "def monte(n):\n",
    "    a = np.random.uniform(0,1,(n,2))\n",
    "    points_in_circle = 0\n",
    "    points_not_in_circle = 0\n",
    "\n",
    "    for i in range(n):\n",
    "        if (abs(a[i][0])**2 + abs(a[i][1])**2)**(1/2) < 1:\n",
    "            points_in_circle += 1\n",
    "            #print(\"In the circle\")\n",
    "        else:\n",
    "            points_not_in_circle += 1\n",
    "            #print(\"Not in the circle\")\n",
    "    ratio = 4*(points_in_circle/n)\n",
    "    return ratio\n",
    "\n",
    "#x = range(3,5,.1)\n",
    "x = range(1000,100000,1000)\n",
    "#x = range(100,1000,100)\n",
    "x_log = []\n",
    "y = []\n",
    "p = np.pi\n",
    "for j in x:\n",
    "    y.append(abs(p - monte(j)))\n",
    "    x_log.append(np.log10(j))\n",
    "    \n",
    "plt.scatter(x_log, y)\n",
    "#plt.scatter(x, y)\n",
    "plt.xlabel(\"Number of Points using Log Scale\")\n",
    "plt.ylabel(\"Accuracy of Estimate\")\n",
    "plt.title(\"How the Accuracy of the Estimate of Pi Changes with the Number of Random Points Generated\")"
   ]
  },
  {
   "cell_type": "markdown",
   "metadata": {},
   "source": [
    "(4h) Move your problem to three dimensions and write a new set of functions. That is, generate points in a 3-dimensional cube, and take the ratio of the volumes between a sphere enclosed within the cube and find a relationship to solve for $\\pi$. Use the ratio of the number of points in the sphere to the ratio of the number of points in the cube as an estimate of the ratio between their volumes (how does checking whether a point is in the sphere different from checking whether a point is in the circle?). Write a method that takes in $n$ number of points to generate and outputs an estimate of $\\pi$. Plot the same type of plot as you did in (4f) but utilizing the three dimensional problem. Consider the same efficient implementation you made in (4g) and try to implement it in the three-dimensional version. Overlay the results of the best implementation in two-dimensions and the results of the best implementation in three-dimensions (accuracy in estimating $\\pi$ against the number of points generated).\n",
    "\n",
    "Write your code and answers as comments below. Show your plot as well."
   ]
  },
  {
   "cell_type": "code",
   "execution_count": 54,
   "metadata": {},
   "outputs": [
    {
     "data": {
      "text/plain": [
       "Text(0.5, 1.0, 'How the Accuracy of the Estimate of Pi Changes with the Number of Random Points Generated')"
      ]
     },
     "execution_count": 54,
     "metadata": {},
     "output_type": "execute_result"
    },
    {
     "data": {
      "image/png": "[encoded data removed]",
      "text/plain": [
       "<Figure size 432x288 with 1 Axes>"
      ]
     },
     "metadata": {
      "needs_background": "light"
     },
     "output_type": "display_data"
    }
   ],
   "source": [
    "def monte(n):\n",
    "    a = np.random.uniform(0,1,(n,3))\n",
    "    points_in_circle = 0\n",
    "    points_not_in_circle = 0\n",
    "    for i in range(n):\n",
    "        if (a[i][0]**2 + a[i][1]**2 + a[i][2]**2)**(1/2) < 1:\n",
    "            points_in_circle += 1\n",
    "            #print(\"In the circle\")\n",
    "        else:\n",
    "            points_not_in_circle += 1\n",
    "            #print(\"Not in the circle\")\n",
    "    ratio = 6*(points_in_circle/n)\n",
    "    return ratio\n",
    "\n",
    "#x = range(3,5,.1)\n",
    "x = range(1000,100000,1000)\n",
    "#x = range(100,1000,100)\n",
    "x_log = []\n",
    "y = []\n",
    "p = np.pi\n",
    "for j in x:\n",
    "    y.append(abs(p - monte(j)))\n",
    "    x_log.append(np.log10(j))\n",
    "    \n",
    "plt.scatter(x_log, y)\n",
    "#plt.scatter(x, y)\n",
    "plt.xlabel(\"Number of Points using Log Scale\")\n",
    "plt.ylabel(\"Accuracy of Estimate\")\n",
    "plt.title(\"How the Accuracy of the Estimate of Pi Changes with the Number of Random Points Generated\")"
   ]
  },
  {
   "cell_type": "markdown",
   "metadata": {},
   "source": [
    "(4i) Speak briefly about your plot (1 sentence). What are some obvious observations? Extra credit: Read about the [curse of dimensionality](https://en.wikipedia.org/wiki/Curse_of_dimensionality) and [here](https://www.visiondummy.com/2014/04/curse-dimensionality-affect-classification/) and the relationship between a hypersphere (a sphere in multiple dimensions) and a hypercube (a cube in multiple dimensions). "
   ]
  },
  {
   "cell_type": "markdown",
   "metadata": {},
   "source": [
    "The three dimensional case is much less accurate than the 2D case"
   ]
  }
 ],
 "metadata": {
  "kernel_info": {
   "name": "python3"
  },
  "kernelspec": {
   "display_name": "Python 3",
   "language": "python",
   "name": "python3"
  },
  "language_info": {
   "codemirror_mode": {
    "name": "ipython",
    "version": 3
   },
   "file_extension": ".py",
   "mimetype": "text/x-python",
   "name": "python",
   "nbconvert_exporter": "python",
   "pygments_lexer": "ipython3",
   "version": "3.7.3"
  },
  "nteract": {
   "version": "0.3.4"
  }
 },
 "nbformat": 4,
 "nbformat_minor": 4
}
