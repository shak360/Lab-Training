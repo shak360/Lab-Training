{
 "cells": [
  {
   "cell_type": "markdown",
   "metadata": {},
   "source": [
    "# **Assignment 1** - Introduction\n",
    "#### **Author**: Shakthi Visagan\n",
    "#### **Purpose**: Introduction to git, and some Python\n",
    "\n",
    "Please run through this tutorial on [how git](https://try.github.io/) functions. \n",
    "Further reading on git [exists here](http://swcarpentry.github.io/git-novice/).\n",
    "For an introduction to Python programming, please follow the tutorials [here](http://swcarpentry.github.io/python-novice-inflammation/) and [here](https://swcarpentry.github.io/python-novice-gapminder/)."
   ]
  },
  {
   "cell_type": "markdown",
   "metadata": {},
   "source": [
    "This is a Jupyter environment. Though you can program (write code) through here, you will primarily write software in text files. Jupyter notebooks will be reserved for demonstrating code, visualizing results, and practicing/learning new tools.\n",
    "\n",
    "---"
   ]
  },
  {
   "cell_type": "code",
   "execution_count": 4,
   "metadata": {
    "collapsed": true
   },
   "outputs": [],
   "source": [
    "import numpy as np\n",
    "import matplotlib.pyplot as plt\n",
    "%matplotlib inline\n",
    "from sklearn import datasets"
   ]
  },
  {
   "cell_type": "markdown",
   "metadata": {},
   "source": [
    "#### (1) Write a function that stores the first $n$ numbers of the Fibonacci sequence in a numpy array.\n",
    "Complete this problem by filling out the function below.\n",
    "Then write two assertions as tests of your function."
   ]
  },
  {
   "cell_type": "code",
   "execution_count": 5,
   "metadata": {},
   "outputs": [],
   "source": [
    "def fib_lister(n):\n",
    "    \"\"\"\n",
    "    Obtain the first n numbers in the Fibonacci sequence.\n",
    "    Recall that the first 3 numbers should be 0, 1 and 1.\n",
    "    That is, fib_lister(3) should return np.array([0 1 1]).\n",
    "    \"\"\"\n",
    "    # create a list with n number of 0s\n",
    "    fib_list = [0]*n\n",
    "    \n",
    "    ### Enter code below ###\n",
    "    \n",
    "    pass\n",
    "    \n",
    "    ###------------------###\n",
    "    return np.array(fib_list)"
   ]
  },
  {
   "cell_type": "code",
   "execution_count": 6,
   "metadata": {},
   "outputs": [
    {
     "ename": "AssertionError",
     "evalue": "",
     "output_type": "error",
     "traceback": [
      "\u001b[1;31m---------------------------------------------------------------------------\u001b[0m",
      "\u001b[1;31mAssertionError\u001b[0m                            Traceback (most recent call last)",
      "\u001b[1;32m<ipython-input-6-34cf5ac8b633>\u001b[0m in \u001b[0;36m<module>\u001b[1;34m\u001b[0m\n\u001b[0;32m      1\u001b[0m \u001b[1;32massert\u001b[0m \u001b[0mfib_lister\u001b[0m\u001b[1;33m(\u001b[0m\u001b[1;36m101\u001b[0m\u001b[1;33m)\u001b[0m\u001b[1;33m[\u001b[0m\u001b[1;36m0\u001b[0m\u001b[1;33m]\u001b[0m   \u001b[1;33m==\u001b[0m \u001b[1;36m0\u001b[0m\u001b[1;33m\u001b[0m\u001b[1;33m\u001b[0m\u001b[0m\n\u001b[1;32m----> 2\u001b[1;33m \u001b[1;32massert\u001b[0m \u001b[0mfib_lister\u001b[0m\u001b[1;33m(\u001b[0m\u001b[1;36m101\u001b[0m\u001b[1;33m)\u001b[0m\u001b[1;33m[\u001b[0m\u001b[1;36m1\u001b[0m\u001b[1;33m]\u001b[0m   \u001b[1;33m==\u001b[0m \u001b[1;36m1\u001b[0m\u001b[1;33m\u001b[0m\u001b[1;33m\u001b[0m\u001b[0m\n\u001b[0m\u001b[0;32m      3\u001b[0m \u001b[1;32massert\u001b[0m \u001b[0mfib_lister\u001b[0m\u001b[1;33m(\u001b[0m\u001b[1;36m101\u001b[0m\u001b[1;33m)\u001b[0m\u001b[1;33m[\u001b[0m\u001b[1;36m2\u001b[0m\u001b[1;33m]\u001b[0m   \u001b[1;33m==\u001b[0m \u001b[1;36m1\u001b[0m\u001b[1;33m\u001b[0m\u001b[1;33m\u001b[0m\u001b[0m\n\u001b[0;32m      4\u001b[0m \u001b[1;32massert\u001b[0m \u001b[0mfib_lister\u001b[0m\u001b[1;33m(\u001b[0m\u001b[1;36m101\u001b[0m\u001b[1;33m)\u001b[0m\u001b[1;33m[\u001b[0m\u001b[1;36m20\u001b[0m\u001b[1;33m]\u001b[0m  \u001b[1;33m==\u001b[0m \u001b[1;36m6765\u001b[0m\u001b[1;33m\u001b[0m\u001b[1;33m\u001b[0m\u001b[0m\n\u001b[0;32m      5\u001b[0m \u001b[1;32massert\u001b[0m \u001b[0mfib_lister\u001b[0m\u001b[1;33m(\u001b[0m\u001b[1;36m101\u001b[0m\u001b[1;33m)\u001b[0m\u001b[1;33m[\u001b[0m\u001b[1;36m40\u001b[0m\u001b[1;33m]\u001b[0m  \u001b[1;33m==\u001b[0m \u001b[1;36m102334155\u001b[0m\u001b[1;33m\u001b[0m\u001b[1;33m\u001b[0m\u001b[0m\n",
      "\u001b[1;31mAssertionError\u001b[0m: "
     ]
    }
   ],
   "source": [
    "assert fib_lister(101)[0]   == 0\n",
    "assert fib_lister(101)[1]   == 1\n",
    "assert fib_lister(101)[2]   == 1\n",
    "assert fib_lister(101)[20]  == 6765\n",
    "assert fib_lister(101)[40]  == 102334155\n",
    "assert fib_lister(101)[60]  == 1548008755920\n",
    "assert fib_lister(101)[80]  != 6765\n",
    "assert fib_lister(101)[100] == 354224848179261915075"
   ]
  },
  {
   "cell_type": "code",
   "execution_count": 7,
   "metadata": {},
   "outputs": [],
   "source": [
    "### Write two more asserts here ###\n",
    "\n",
    "pass\n",
    "\n",
    "###-----------------------------###"
   ]
  },
  {
   "cell_type": "markdown",
   "metadata": {},
   "source": [
    "---"
   ]
  },
  {
   "cell_type": "markdown",
   "metadata": {},
   "source": [
    "#### (2) Plot the selected data from this Boston home price dataset.\n",
    "Ensure that the graph is appropriately labeled and titled.\n",
    "Use [plt.scatter](https://matplotlib.org/3.1.1/api/_as_gen/matplotlib.pyplot.scatter.html) to learn how to plot data with independent and dependent variables.\n",
    "Use the examples listed in the page to learn how to plot in Python."
   ]
  },
  {
   "cell_type": "code",
   "execution_count": 8,
   "metadata": {
    "scrolled": true
   },
   "outputs": [],
   "source": [
    "boston = datasets.load_boston()\n",
    "\n",
    "y = boston.target\n",
    "x = boston.data[:,0]\n",
    "ylabel = \"Home Prices ($1000)\"\n",
    "xlabel = \"Crime (per capita)\""
   ]
  },
  {
   "cell_type": "code",
   "execution_count": 9,
   "metadata": {},
   "outputs": [],
   "source": [
    "### Enter plotting code below ###\n",
    "\n",
    "pass\n",
    "\n",
    "###---------------------------###"
   ]
  },
  {
   "cell_type": "markdown",
   "metadata": {},
   "source": [
    "---"
   ]
  },
  {
   "cell_type": "markdown",
   "metadata": {},
   "source": [
    "#### (3) Write a function that satisfies the assertions below."
   ]
  },
  {
   "cell_type": "code",
   "execution_count": 10,
   "metadata": {},
   "outputs": [],
   "source": [
    "def func(x,y):\n",
    "    \"\"\"\n",
    "    func(0,20) = 40\n",
    "    func(1,10) = 21\n",
    "    func(2,5) = 12\n",
    "    func(3,2) = 7\n",
    "    func(4,1) = 6\n",
    "    \"\"\"\n",
    "    ### Enter code below ###\n",
    "    \n",
    "    z = None\n",
    "    \n",
    "    ###------------------###\n",
    "    return z"
   ]
  },
  {
   "cell_type": "code",
   "execution_count": 11,
   "metadata": {},
   "outputs": [
    {
     "ename": "AssertionError",
     "evalue": "",
     "output_type": "error",
     "traceback": [
      "\u001b[1;31m---------------------------------------------------------------------------\u001b[0m",
      "\u001b[1;31mAssertionError\u001b[0m                            Traceback (most recent call last)",
      "\u001b[1;32m<ipython-input-11-089bab62cc1b>\u001b[0m in \u001b[0;36m<module>\u001b[1;34m\u001b[0m\n\u001b[1;32m----> 1\u001b[1;33m \u001b[1;32massert\u001b[0m\u001b[1;33m(\u001b[0m\u001b[0mfunc\u001b[0m\u001b[1;33m(\u001b[0m\u001b[1;36m0\u001b[0m\u001b[1;33m,\u001b[0m \u001b[1;36m20\u001b[0m\u001b[1;33m)\u001b[0m \u001b[1;33m==\u001b[0m \u001b[1;36m40\u001b[0m\u001b[1;33m)\u001b[0m\u001b[1;33m\u001b[0m\u001b[1;33m\u001b[0m\u001b[0m\n\u001b[0m\u001b[0;32m      2\u001b[0m \u001b[1;32massert\u001b[0m\u001b[1;33m(\u001b[0m\u001b[0mfunc\u001b[0m\u001b[1;33m(\u001b[0m\u001b[1;36m1\u001b[0m\u001b[1;33m,\u001b[0m \u001b[1;36m10\u001b[0m\u001b[1;33m)\u001b[0m \u001b[1;33m==\u001b[0m \u001b[1;36m21\u001b[0m\u001b[1;33m)\u001b[0m\u001b[1;33m\u001b[0m\u001b[1;33m\u001b[0m\u001b[0m\n\u001b[0;32m      3\u001b[0m \u001b[1;32massert\u001b[0m\u001b[1;33m(\u001b[0m\u001b[0mfunc\u001b[0m\u001b[1;33m(\u001b[0m\u001b[1;36m2\u001b[0m\u001b[1;33m,\u001b[0m \u001b[1;36m5\u001b[0m\u001b[1;33m)\u001b[0m \u001b[1;33m==\u001b[0m \u001b[1;36m12\u001b[0m\u001b[1;33m)\u001b[0m\u001b[1;33m\u001b[0m\u001b[1;33m\u001b[0m\u001b[0m\n\u001b[0;32m      4\u001b[0m \u001b[1;32massert\u001b[0m\u001b[1;33m(\u001b[0m\u001b[0mfunc\u001b[0m\u001b[1;33m(\u001b[0m\u001b[1;36m3\u001b[0m\u001b[1;33m,\u001b[0m \u001b[1;36m2\u001b[0m\u001b[1;33m)\u001b[0m \u001b[1;33m==\u001b[0m \u001b[1;36m7\u001b[0m\u001b[1;33m)\u001b[0m\u001b[1;33m\u001b[0m\u001b[1;33m\u001b[0m\u001b[0m\n\u001b[0;32m      5\u001b[0m \u001b[1;32massert\u001b[0m\u001b[1;33m(\u001b[0m\u001b[0mfunc\u001b[0m\u001b[1;33m(\u001b[0m\u001b[1;36m4\u001b[0m\u001b[1;33m,\u001b[0m \u001b[1;36m1\u001b[0m\u001b[1;33m)\u001b[0m \u001b[1;33m==\u001b[0m \u001b[1;36m6\u001b[0m\u001b[1;33m)\u001b[0m\u001b[1;33m\u001b[0m\u001b[1;33m\u001b[0m\u001b[0m\n",
      "\u001b[1;31mAssertionError\u001b[0m: "
     ]
    }
   ],
   "source": [
    "assert(func(0, 20) == 40)\n",
    "assert(func(1, 10) == 21)\n",
    "assert(func(2, 5) == 12)\n",
    "assert(func(3, 2) == 7)\n",
    "assert(func(4, 1) == 6)"
   ]
  },
  {
   "cell_type": "markdown",
   "metadata": {},
   "source": [
    "---"
   ]
  },
  {
   "cell_type": "markdown",
   "metadata": {},
   "source": [
    "#### (4) Estimating the value of $\\pi$ numerically using Monte Carlo sampling."
   ]
  },
  {
   "cell_type": "markdown",
   "metadata": {},
   "source": [
    "(4a) Imagine a circle enclosed in a square such that the circle only intersects with the square at four points on the edges of the square.\n",
    "1. If the circle has radius $1$, what is the length of an edge of the square?\n",
    "2. What is the area of the circle?\n",
    "3. What is the area of the square?\n",
    "4. What is the ratio of the area of the circle to the area of the square?\n",
    "5. How can we use the ratios between their areas to calculate $\\pi$?\n",
    "\n",
    "Write your answers below."
   ]
  },
  {
   "cell_type": "markdown",
   "metadata": {},
   "source": []
  },
  {
   "cell_type": "markdown",
   "metadata": {},
   "source": [
    "(4b) In your previous drawing, where did you set the origin of your coordinates to be, the bottom-left corner of the square or the center of the circle?\n",
    "\n",
    "If the origin (the point $(0,0)$) is at the bottom-left corner of the square...\n",
    "1. What is the largest and smallest $x$-coordinate you can have (such that you're still inside the square)? \n",
    "2. What is the largest and smallest $y$-coordinate you can have (such that you're still inside the square)?\n",
    "3. What is the center of the circle in this setup?\n",
    "4. How do you check whether or not a point is in the circle? (hint: What distance should we calculate?)\n",
    "\n",
    "If the origin (the point $(0,0)$) is at the center of the circle...\n",
    "1. What is the largest and smallest $x$-coordinate you can have (such that you're still inside the square)? \n",
    "2. What is the largest and smallest $y$-coordinate you can have (such that you're still inside the square)?\n",
    "3. What is the top-right corner of the square in this setup?\n",
    "4. How do you check whether or not a point is in the circle? (hint: What distance should we calculate?)\n",
    "\n",
    "How is the answer to question 4 different in each scenario?\n",
    "\n",
    "Write your answers below."
   ]
  },
  {
   "cell_type": "markdown",
   "metadata": {},
   "source": []
  },
  {
   "cell_type": "markdown",
   "metadata": {},
   "source": [
    "(4c) Using [numpy](https://numpy.org/) and your resourcefulness, figure out how to simulate a 1000 coordinate pairs that are inside the square in either of the two coordinate systems you've set up in the previous problem. Explicitly state what coordinate system you've chosen. Is there a benefit to one over the other? Write a function that can generate $n$ coordinate pairs within the square.\n",
    "\n",
    "Write your code and answers as comments below."
   ]
  },
  {
   "cell_type": "code",
   "execution_count": null,
   "metadata": {},
   "outputs": [],
   "source": []
  },
  {
   "cell_type": "markdown",
   "metadata": {},
   "source": [
    "(4d) Given a coordinate pair, like the ones generated in (4c), and the coordinate system you've chosen, how do you check if the coordinate pair is inside the circle? How do you check if the coordinate pair is inside the square (Do we need to? Recall the way you generate coordinates)?\n",
    "\n",
    "Write your code and answers as comments below."
   ]
  },
  {
   "cell_type": "code",
   "execution_count": null,
   "metadata": {},
   "outputs": [],
   "source": []
  },
  {
   "cell_type": "markdown",
   "metadata": {},
   "source": [
    "(4e) Use the ratio of the number of points inside the circle to the number of points inside the square as an estimate of the ratio between the circle's area and the square's area. Use all of the above answers to estimate the value of $\\pi$.\n",
    "\n",
    "Write your code and answers as comments below."
   ]
  },
  {
   "cell_type": "code",
   "execution_count": null,
   "metadata": {},
   "outputs": [],
   "source": []
  },
  {
   "cell_type": "markdown",
   "metadata": {},
   "source": [
    "(4f) Package the code above as neat functions if you haven't already. Ideally, you should have a function that takes in as input $n$ number of points to generate (sample the square) and outputs an estimate of $\\pi$. Think about a way to calculate the accuracy of your method (the difference between actual $\\pi$ and the number your method calculates). See how well your estimate does as the number of coordinates you use to sample the square increases. Visually represent this through a plot. Add appropriate labels and titles. Do this on a logarithmic scale (the number of points you simulate should increase in powers of 2). Make sure that the plot scaling on the $x$-axis is scaled logarithmically as well.\n",
    "\n",
    "Write your code and answers as comments below. Show your plot as well."
   ]
  },
  {
   "cell_type": "code",
   "execution_count": null,
   "metadata": {},
   "outputs": [],
   "source": []
  },
  {
   "cell_type": "markdown",
   "metadata": {},
   "source": [
    "(4g) Think about ways to make your code faster. Which coordinate scheme from (4b) utilizes fewer operations? Can we improve the problem setup in anyway? How would the coordinate scheme have to change (do we need to generate points over the entire square? what about a quarter of it?)? Try implementing your answers to these questions as new function(s). Look up how to time functions in Python ([timeit](https://docs.python.org/2/library/timeit.html)) and given the same input, compare your new method to the old method in terms of runtime. Plot the same type of plot as you did in (4f) but utilizing the new method. Show the performance of both methods in the same plot.\n",
    "\n",
    "Write your code and answers as comments below. Show your plot as well."
   ]
  },
  {
   "cell_type": "code",
   "execution_count": null,
   "metadata": {},
   "outputs": [],
   "source": []
  },
  {
   "cell_type": "markdown",
   "metadata": {},
   "source": [
    "(4h) Move your problem to three dimensions and write a new set of functions. That is, generate points in a 3-dimensional cube, and take the ratio of the volumes between a sphere enclosed within a cube and find a relationship to solve for $\\pi$. Use the ratio of the number of points in the sphere to the ratio of the number of points in the cube as an estimate of the ratio between their volumes (how does checking whether a point is in the sphere different from checking whether a point is in the circle?). Write a method that takes in $n$ number of points to generate and outputs an estimate of $\\pi$. Plot the same type of plot as you did in (4f) but utilizing the three dimensional problem. Consider the same efficient implementation you made in (4g) and try to implement it in the three-dimensional version. Overlay the results of the best implementation in two-dimensions and the results of the best implementation in three-dimensions (accuracy in estimating $\\pi$ against the number of points generated).\n",
    "\n",
    "Write your code and answers as comments below. Show your plot as well."
   ]
  },
  {
   "cell_type": "code",
   "execution_count": null,
   "metadata": {},
   "outputs": [],
   "source": []
  },
  {
   "cell_type": "markdown",
   "metadata": {},
   "source": [
    "(4i) Speak briefly about your plot (1 sentence). What are some obvious observations? Extra credit: Read about the [curse of dimensionality](https://en.wikipedia.org/wiki/Curse_of_dimensionality) and [here](https://www.visiondummy.com/2014/04/curse-dimensionality-affect-classification/) and the relationship between a hypersphere (a sphere in multiple dimensions) and a hypercube (a cube in multiple dimensions). "
   ]
  },
  {
   "cell_type": "markdown",
   "metadata": {},
   "source": []
  }
 ],
 "metadata": {
  "kernel_info": {
   "name": "python3"
  },
  "kernelspec": {
   "display_name": "Python 3",
   "language": "python",
   "name": "python3"
  },
  "language_info": {
   "codemirror_mode": {
    "name": "ipython",
    "version": 3
   },
   "file_extension": ".py",
   "mimetype": "text/x-python",
   "name": "python",
   "nbconvert_exporter": "python",
   "pygments_lexer": "ipython3",
   "version": "3.7.4"
  },
  "nteract": {
   "version": "0.3.4"
  }
 },
 "nbformat": 4,
 "nbformat_minor": 2
}
